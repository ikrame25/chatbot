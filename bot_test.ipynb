{
 "cells": [
  {
   "cell_type": "code",
   "execution_count": 1,
   "metadata": {},
   "outputs": [
    {
     "name": "stderr",
     "output_type": "stream",
     "text": [
      "/Library/Frameworks/Python.framework/Versions/3.6/lib/python3.6/site-packages/h5py/__init__.py:36: FutureWarning: Conversion of the second argument of issubdtype from `float` to `np.floating` is deprecated. In future, it will be treated as `np.float64 == np.dtype(float).type`.\n",
      "  from ._conv import register_converters as _register_converters\n",
      "Using TensorFlow backend.\n"
     ]
    }
   ],
   "source": [
    "from random import randint\n",
    "from numpy import array\n",
    "from numpy import argmax\n",
    "from numpy import array_equal\n",
    "from keras.models import Sequential\n",
    "from keras.layers import LSTM\n",
    "from keras.layers import Dense\n",
    "from keras.layers import TimeDistributed\n",
    "from keras.layers import RepeatVector\n",
    "from keras.preprocessing.text import one_hot\n",
    "from keras.preprocessing.sequence import pad_sequences\n",
    "from keras.utils import to_categorical\n",
    "from keras.models import Model\n",
    "from attention_decoder import AttentionDecoder\n",
    "from nltk.stem import PorterStemmer\n",
    "import string\n",
    "\n",
    "import pandas as pd"
   ]
  },
  {
   "cell_type": "code",
   "execution_count": 2,
   "metadata": {},
   "outputs": [
    {
     "data": {
      "text/html": [
       "<div>\n",
       "<style scoped>\n",
       "    .dataframe tbody tr th:only-of-type {\n",
       "        vertical-align: middle;\n",
       "    }\n",
       "\n",
       "    .dataframe tbody tr th {\n",
       "        vertical-align: top;\n",
       "    }\n",
       "\n",
       "    .dataframe thead th {\n",
       "        text-align: right;\n",
       "    }\n",
       "</style>\n",
       "<table border=\"1\" class=\"dataframe\">\n",
       "  <thead>\n",
       "    <tr style=\"text-align: right;\">\n",
       "      <th></th>\n",
       "      <th>question</th>\n",
       "      <th>answer</th>\n",
       "    </tr>\n",
       "  </thead>\n",
       "  <tbody>\n",
       "    <tr>\n",
       "      <th>0</th>\n",
       "      <td>hello</td>\n",
       "      <td>HI</td>\n",
       "    </tr>\n",
       "    <tr>\n",
       "      <th>1</th>\n",
       "      <td>hey</td>\n",
       "      <td>Hello</td>\n",
       "    </tr>\n",
       "    <tr>\n",
       "      <th>2</th>\n",
       "      <td>hi</td>\n",
       "      <td>Hey</td>\n",
       "    </tr>\n",
       "    <tr>\n",
       "      <th>3</th>\n",
       "      <td>how are you?</td>\n",
       "      <td>good, you?</td>\n",
       "    </tr>\n",
       "    <tr>\n",
       "      <th>4</th>\n",
       "      <td>how is it going?</td>\n",
       "      <td>great</td>\n",
       "    </tr>\n",
       "    <tr>\n",
       "      <th>5</th>\n",
       "      <td>good</td>\n",
       "      <td>same here</td>\n",
       "    </tr>\n",
       "    <tr>\n",
       "      <th>6</th>\n",
       "      <td>great</td>\n",
       "      <td>that is good to hear</td>\n",
       "    </tr>\n",
       "    <tr>\n",
       "      <th>7</th>\n",
       "      <td>what color is the sky</td>\n",
       "      <td>blue</td>\n",
       "    </tr>\n",
       "    <tr>\n",
       "      <th>8</th>\n",
       "      <td>bye</td>\n",
       "      <td>bye</td>\n",
       "    </tr>\n",
       "    <tr>\n",
       "      <th>9</th>\n",
       "      <td>goodbye</td>\n",
       "      <td>goodbye</td>\n",
       "    </tr>\n",
       "  </tbody>\n",
       "</table>\n",
       "</div>"
      ],
      "text/plain": [
       "                question                answer\n",
       "0                  hello                    HI\n",
       "1                    hey                 Hello\n",
       "2                     hi                   Hey\n",
       "3           how are you?            good, you?\n",
       "4       how is it going?                 great\n",
       "5                   good             same here\n",
       "6                  great  that is good to hear\n",
       "7  what color is the sky                  blue\n",
       "8                    bye                   bye\n",
       "9                goodbye               goodbye"
      ]
     },
     "execution_count": 2,
     "metadata": {},
     "output_type": "execute_result"
    }
   ],
   "source": [
    "ps = PorterStemmer()\n",
    "df = pd.read_csv('test.csv')\n",
    "df.head(10)"
   ]
  },
  {
   "cell_type": "code",
   "execution_count": 3,
   "metadata": {},
   "outputs": [],
   "source": [
    "def return_sents(df_col1, df_col2):\n",
    "    return [sent for sent in df.question] + [sent for sent in df.answer]"
   ]
  },
  {
   "cell_type": "code",
   "execution_count": 4,
   "metadata": {},
   "outputs": [],
   "source": [
    "def return_unique_words(all_sents):\n",
    "    table = str.maketrans({key: None for key in string.punctuation})\n",
    "    all_words = [words.split() for words in all_sents] \n",
    "    word_list = [word.lower() for sublist in all_words for word in sublist]\n",
    "    word_list = [word.translate(table) for word in word_list] \n",
    "#    word_list = [ps.stem(word) for word in word_list]\n",
    "    return list(set(word_list))"
   ]
  },
  {
   "cell_type": "code",
   "execution_count": 5,
   "metadata": {},
   "outputs": [],
   "source": [
    "def return_unique_words_single(sent):\n",
    "    table = str.maketrans({key: None for key in string.punctuation})\n",
    "    all_words = sent.split()\n",
    "    word_list = [word.lower() for word in all_words]\n",
    "    word_list = [word.translate(table) for word in word_list] \n",
    "#    word_list = [ps.stem(word) for word in word_list]\n",
    "    return word_list"
   ]
  },
  {
   "cell_type": "code",
   "execution_count": 6,
   "metadata": {},
   "outputs": [],
   "source": [
    "def df_to_df(df_col1, df_col2):\n",
    "    all_sent = return_sents(df_col1, df_col2)\n",
    "    word_list = return_unique_words(all_sent)\n",
    "    word_list.insert(0, ' ')\n",
    "    t_df = pd.DataFrame()\n",
    "    t_df['word'] = word_list\n",
    "    t_df['idx'] = t_df.index\n",
    "    return t_df"
   ]
  },
  {
   "cell_type": "code",
   "execution_count": 7,
   "metadata": {},
   "outputs": [
    {
     "data": {
      "text/html": [
       "<div>\n",
       "<style scoped>\n",
       "    .dataframe tbody tr th:only-of-type {\n",
       "        vertical-align: middle;\n",
       "    }\n",
       "\n",
       "    .dataframe tbody tr th {\n",
       "        vertical-align: top;\n",
       "    }\n",
       "\n",
       "    .dataframe thead th {\n",
       "        text-align: right;\n",
       "    }\n",
       "</style>\n",
       "<table border=\"1\" class=\"dataframe\">\n",
       "  <thead>\n",
       "    <tr style=\"text-align: right;\">\n",
       "      <th></th>\n",
       "      <th>word</th>\n",
       "      <th>idx</th>\n",
       "    </tr>\n",
       "  </thead>\n",
       "  <tbody>\n",
       "    <tr>\n",
       "      <th>0</th>\n",
       "      <td></td>\n",
       "      <td>0</td>\n",
       "    </tr>\n",
       "    <tr>\n",
       "      <th>1</th>\n",
       "      <td>question</td>\n",
       "      <td>1</td>\n",
       "    </tr>\n",
       "    <tr>\n",
       "      <th>2</th>\n",
       "      <td>married</td>\n",
       "      <td>2</td>\n",
       "    </tr>\n",
       "    <tr>\n",
       "      <th>3</th>\n",
       "      <td>lazy</td>\n",
       "      <td>3</td>\n",
       "    </tr>\n",
       "    <tr>\n",
       "      <th>4</th>\n",
       "      <td>enjoy</td>\n",
       "      <td>4</td>\n",
       "    </tr>\n",
       "  </tbody>\n",
       "</table>\n",
       "</div>"
      ],
      "text/plain": [
       "       word  idx\n",
       "0              0\n",
       "1  question    1\n",
       "2   married    2\n",
       "3      lazy    3\n",
       "4     enjoy    4"
      ]
     },
     "execution_count": 7,
     "metadata": {},
     "output_type": "execute_result"
    }
   ],
   "source": [
    "t_df = df_to_df(df.question, df.answer)\n",
    "t_df.head()"
   ]
  },
  {
   "cell_type": "code",
   "execution_count": 8,
   "metadata": {},
   "outputs": [],
   "source": [
    "def word_to_array(sents, t_df):\n",
    "    l = []\n",
    "    l2 = []\n",
    "    for sent in sents:\n",
    "        b = []\n",
    "        a = return_unique_words_single(sent)\n",
    "        for w in a:\n",
    "            try:\n",
    "                b.append(t_df.loc[t_df.word == w, 'idx'].iloc[0])\n",
    "            except:\n",
    "                b.append(0)\n",
    "        l.append(a)\n",
    "        l2.append(b)\n",
    "    return l, l2"
   ]
  },
  {
   "cell_type": "code",
   "execution_count": 9,
   "metadata": {},
   "outputs": [],
   "source": [
    "q_list, q_as_array = word_to_array(df.question, t_df)\n",
    "a_list, a_as_array = word_to_array(df.answer, t_df)"
   ]
  },
  {
   "cell_type": "code",
   "execution_count": 10,
   "metadata": {},
   "outputs": [
    {
     "name": "stdout",
     "output_type": "stream",
     "text": [
      "Question word list:\n",
      " [['hello'], ['hey'], ['hi'], ['how', 'are', 'you'], ['how', 'is', 'it', 'going'], ['good'], ['great'], ['what', 'color', 'is', 'the', 'sky'], ['bye'], ['goodbye']] \n",
      "\n",
      " Question array list:\n",
      " [[106], [61], [139], [27, 73, 104], [27, 91, 44, 59], [135], [34], [78, 134, 91, 28, 84], [63], [55]] \n",
      "\n",
      "Answer word list:\n",
      " [['hi'], ['hello'], ['hey'], ['good', 'you'], ['great'], ['same', 'here'], ['that', 'is', 'good', 'to', 'hear'], ['blue'], ['bye'], ['goodbye']] \n",
      "\n",
      " Answer array list:\n",
      " [[139], [106], [61], [135, 104], [34], [120, 92], [12, 91, 135, 87, 146], [71], [63], [55]] \n",
      "\n"
     ]
    }
   ],
   "source": [
    "print('Question word list:\\n', q_list[:10], '\\n'*2,'Question array list:\\n', q_as_array[:10], '\\n')\n",
    "print('Answer word list:\\n', a_list[:10],'\\n'*2, 'Answer array list:\\n', a_as_array[:10],'\\n')"
   ]
  },
  {
   "cell_type": "code",
   "execution_count": 11,
   "metadata": {},
   "outputs": [
    {
     "name": "stdout",
     "output_type": "stream",
     "text": [
      "Vocab Size:  147\n",
      "Max Length of Question:  8\n",
      "Max Length of Answer:  21\n",
      "Max Padded Length:  22\n"
     ]
    }
   ],
   "source": [
    "vocab_size = len(t_df)\n",
    "print('Vocab Size: ', vocab_size)\n",
    "\n",
    "max_q_l = len(max(q_as_array,key=len))\n",
    "max_a_l = len(max(a_as_array,key=len))\n",
    "max_l = max(max_q_l, max_a_l)\n",
    "print('Max Length of Question: ', max_q_l)\n",
    "print('Max Length of Answer: ', max_a_l)\n",
    "\n",
    "# pad documents to a max length + 1\n",
    "max_length = max_l + 1\n",
    "print('Max Padded Length: ', max_length)"
   ]
  },
  {
   "cell_type": "code",
   "execution_count": 12,
   "metadata": {},
   "outputs": [
    {
     "name": "stdout",
     "output_type": "stream",
     "text": [
      "Padded array:\n",
      " [[106   0   0   0   0   0   0   0   0   0   0   0   0   0   0   0   0   0\n",
      "    0   0   0   0]\n",
      " [ 61   0   0   0   0   0   0   0   0   0   0   0   0   0   0   0   0   0\n",
      "    0   0   0   0]\n",
      " [139   0   0   0   0   0   0   0   0   0   0   0   0   0   0   0   0   0\n",
      "    0   0   0   0]\n",
      " [ 27  73 104   0   0   0   0   0   0   0   0   0   0   0   0   0   0   0\n",
      "    0   0   0   0]\n",
      " [ 27  91  44  59   0   0   0   0   0   0   0   0   0   0   0   0   0   0\n",
      "    0   0   0   0]\n",
      " [135   0   0   0   0   0   0   0   0   0   0   0   0   0   0   0   0   0\n",
      "    0   0   0   0]\n",
      " [ 34   0   0   0   0   0   0   0   0   0   0   0   0   0   0   0   0   0\n",
      "    0   0   0   0]\n",
      " [ 78 134  91  28  84   0   0   0   0   0   0   0   0   0   0   0   0   0\n",
      "    0   0   0   0]\n",
      " [ 63   0   0   0   0   0   0   0   0   0   0   0   0   0   0   0   0   0\n",
      "    0   0   0   0]\n",
      " [ 55   0   0   0   0   0   0   0   0   0   0   0   0   0   0   0   0   0\n",
      "    0   0   0   0]]\n"
     ]
    }
   ],
   "source": [
    "padded_q_docs = pad_sequences(q_as_array, maxlen=max_length, padding='post')\n",
    "print('Padded array:\\n', padded_q_docs[:10])"
   ]
  },
  {
   "cell_type": "code",
   "execution_count": 13,
   "metadata": {},
   "outputs": [],
   "source": [
    "def array_to_string(ar):\n",
    "    c = [t_df.loc[t_df.idx == i, 'word'].iloc[0] for i in ar]\n",
    "    s = ' '.join(c)\n",
    "    return s"
   ]
  },
  {
   "cell_type": "code",
   "execution_count": 14,
   "metadata": {},
   "outputs": [
    {
     "name": "stdout",
     "output_type": "stream",
     "text": [
      "Padded array:\n",
      " [[139   0   0   0   0   0   0   0   0   0   0   0   0   0   0   0   0   0\n",
      "    0   0   0   0]\n",
      " [106   0   0   0   0   0   0   0   0   0   0   0   0   0   0   0   0   0\n",
      "    0   0   0   0]\n",
      " [ 61   0   0   0   0   0   0   0   0   0   0   0   0   0   0   0   0   0\n",
      "    0   0   0   0]\n",
      " [135 104   0   0   0   0   0   0   0   0   0   0   0   0   0   0   0   0\n",
      "    0   0   0   0]\n",
      " [ 34   0   0   0   0   0   0   0   0   0   0   0   0   0   0   0   0   0\n",
      "    0   0   0   0]\n",
      " [120  92   0   0   0   0   0   0   0   0   0   0   0   0   0   0   0   0\n",
      "    0   0   0   0]\n",
      " [ 12  91 135  87 146   0   0   0   0   0   0   0   0   0   0   0   0   0\n",
      "    0   0   0   0]\n",
      " [ 71   0   0   0   0   0   0   0   0   0   0   0   0   0   0   0   0   0\n",
      "    0   0   0   0]\n",
      " [ 63   0   0   0   0   0   0   0   0   0   0   0   0   0   0   0   0   0\n",
      "    0   0   0   0]\n",
      " [ 55   0   0   0   0   0   0   0   0   0   0   0   0   0   0   0   0   0\n",
      "    0   0   0   0]]\n"
     ]
    }
   ],
   "source": [
    "padded_a_docs = pad_sequences(a_as_array, maxlen=max_length, padding='post')\n",
    "print('Padded array:\\n', padded_a_docs[:10])"
   ]
  },
  {
   "cell_type": "code",
   "execution_count": 15,
   "metadata": {},
   "outputs": [],
   "source": [
    "# one hot encode sequence\n",
    "def one_hot_encode(sequence, n_unique):\n",
    "    encoding = list()\n",
    "    for value in sequence:\n",
    "        vector = [0 for _ in range(n_unique)]\n",
    "        vector[value] = 1\n",
    "        encoding.append(vector)\n",
    "    return array(encoding)"
   ]
  },
  {
   "cell_type": "code",
   "execution_count": 16,
   "metadata": {},
   "outputs": [],
   "source": [
    "# decode a one hot encoded string\n",
    "def one_hot_decode(encoded_seq):\n",
    "    return [argmax(vector) for vector in encoded_seq]"
   ]
  },
  {
   "cell_type": "code",
   "execution_count": 17,
   "metadata": {},
   "outputs": [],
   "source": [
    "# prepare data for the LSTM\n",
    "def transform_xy(sequence_in, sequence_out, n_features):\n",
    "    # one hot encode\n",
    "    X = one_hot_encode(sequence_in, n_features)\n",
    "    y = one_hot_encode(sequence_out, n_features)\n",
    "    \n",
    "    # reshape as 3D\n",
    "    X = X.reshape((1, X.shape[0], X.shape[1]))\n",
    "    y = y.reshape((1, y.shape[0], y.shape[1]))\n",
    "    return X,y"
   ]
  },
  {
   "cell_type": "code",
   "execution_count": 18,
   "metadata": {},
   "outputs": [],
   "source": [
    "n_features = vocab_size + 1\n",
    "\n",
    "# define model\n",
    "model = Sequential()\n",
    "model.add(LSTM(150, input_shape=(max_length, n_features), return_sequences=True))\n",
    "model.add(AttentionDecoder(150, n_features))\n",
    "model.compile(loss='categorical_crossentropy', optimizer='adam', metrics=['acc'])"
   ]
  },
  {
   "cell_type": "code",
   "execution_count": 19,
   "metadata": {
    "scrolled": true
   },
   "outputs": [],
   "source": [
    "for a in range(0, 99):\n",
    "    for n in range(0, len(padded_q_docs)):\n",
    "        # generate new random sequence\n",
    "        X,y = transform_xy(padded_q_docs[n], padded_a_docs[n], n_features)\n",
    "        \n",
    "        # fit model for one epoch on this sequence\n",
    "        model.fit(X, y, epochs=1, verbose=0)"
   ]
  },
  {
   "cell_type": "code",
   "execution_count": 20,
   "metadata": {},
   "outputs": [
    {
     "name": "stdout",
     "output_type": "stream",
     "text": [
      "Question Array: [78, 91, 100, 50, 0, 0, 0, 0, 0, 0, 0, 0, 0, 0, 0, 0, 0, 0, 0, 0, 0, 0] \n",
      "Question : what is your name                                     \n",
      "\n",
      "Expected Res. Array: [77, 66, 60, 104, 129, 104, 73, 19, 80, 0, 0, 0, 0, 0, 0, 0, 0, 0, 0, 0, 0, 0] \n",
      "Expected Res.: i cannot tell you because you are a stranger                           \n",
      "\n",
      "Predicted Res. Array: [77, 66, 60, 104, 129, 104, 73, 19, 80, 0, 0, 0, 0, 0, 0, 0, 0, 0, 0, 0, 0, 0] \n",
      "Predicted Res.: i cannot tell you because you are a stranger                           \n",
      "\n",
      "\n",
      "\n",
      "Question Array: [27, 32, 73, 104, 0, 0, 0, 0, 0, 0, 0, 0, 0, 0, 0, 0, 0, 0, 0, 0, 0, 0] \n",
      "Question : how old are you                                     \n",
      "\n",
      "Expected Res. Array: [12, 91, 130, 115, 104, 5, 19, 16, 0, 0, 0, 0, 0, 0, 0, 0, 0, 0, 0, 0, 0, 0] \n",
      "Expected Res.: that is not something you ask a lady                             \n",
      "\n",
      "Predicted Res. Array: [12, 91, 130, 115, 104, 5, 19, 16, 0, 0, 0, 0, 0, 0, 0, 0, 0, 0, 0, 0, 0, 0] \n",
      "Predicted Res.: that is not something you ask a lady                             \n",
      "\n",
      "\n",
      "\n",
      "Question Array: [78, 56, 104, 56, 0, 0, 0, 0, 0, 0, 0, 0, 0, 0, 0, 0, 0, 0, 0, 0, 0, 0] \n",
      "Question : what do you do                                     \n",
      "\n",
      "Expected Res. Array: [22, 68, 0, 0, 0, 0, 0, 0, 0, 0, 0, 0, 0, 0, 0, 0, 0, 0, 0, 0, 0, 0] \n",
      "Expected Res.: professional chatbox                                         \n",
      "\n",
      "Predicted Res. Array: [22, 68, 0, 0, 0, 0, 0, 0, 0, 0, 0, 0, 0, 0, 0, 0, 0, 0, 0, 0, 0, 0] \n",
      "Predicted Res.: professional chatbox                                         \n",
      "\n",
      "\n",
      "\n",
      "Question Array: [73, 104, 110, 51, 0, 0, 0, 0, 0, 0, 0, 0, 0, 0, 0, 0, 0, 0, 0, 0, 0, 0] \n",
      "Question : are you an ai                                     \n",
      "\n",
      "Expected Res. Array: [74, 77, 56, 130, 89, 99, 0, 0, 0, 0, 0, 0, 0, 0, 0, 0, 0, 0, 0, 0, 0, 0] \n",
      "Expected Res.: no i do not think so                                 \n",
      "\n",
      "Predicted Res. Array: [74, 77, 56, 130, 89, 0, 0, 0, 0, 0, 0, 0, 0, 0, 0, 0, 0, 0, 0, 0, 0, 0] \n",
      "Predicted Res.: no i do not think                                   \n",
      "\n",
      "\n",
      "\n",
      "Question Array: [78, 86, 56, 104, 14, 62, 0, 0, 0, 0, 0, 0, 0, 0, 0, 0, 0, 0, 0, 0, 0, 0] \n",
      "Question : what sport do you like watching                                 \n",
      "\n",
      "Expected Res. Array: [85, 0, 0, 0, 0, 0, 0, 0, 0, 0, 0, 0, 0, 0, 0, 0, 0, 0, 0, 0, 0, 0] \n",
      "Expected Res.: basketball                                           \n",
      "\n",
      "Predicted Res. Array: [85, 68, 0, 0, 0, 0, 0, 0, 0, 0, 0, 0, 0, 0, 0, 0, 0, 0, 0, 0, 0, 0] \n",
      "Predicted Res.: basketball chatbox                                         \n",
      "\n",
      "\n",
      "\n",
      "Question Array: [78, 86, 56, 104, 4, 121, 0, 0, 0, 0, 0, 0, 0, 0, 0, 0, 0, 0, 0, 0, 0, 0] \n",
      "Question : what sport do you enjoy playing                                 \n",
      "\n",
      "Expected Res. Array: [6, 114, 124, 67, 96, 0, 0, 0, 0, 0, 0, 0, 0, 0, 0, 0, 0, 0, 0, 0, 0, 0] \n",
      "Expected Res.: baseball sometimes football and hockey                                   \n",
      "\n",
      "Predicted Res. Array: [6, 114, 124, 67, 96, 0, 0, 125, 130, 0, 0, 0, 0, 0, 0, 0, 0, 0, 0, 0, 0, 0] \n",
      "Predicted Res.: baseball sometimes football and hockey     definitely not                           \n",
      "\n",
      "\n",
      "\n",
      "Question Array: [132, 104, 60, 41, 19, 25, 0, 0, 0, 0, 0, 0, 0, 0, 0, 0, 0, 0, 0, 0, 0, 0] \n",
      "Question : can you tell me a joke                                 \n",
      "\n",
      "Expected Res. Array: [122, 122, 0, 0, 0, 0, 0, 0, 0, 0, 0, 0, 0, 0, 0, 0, 0, 0, 0, 0, 0, 0] \n",
      "Expected Res.: knock knock                                         \n",
      "\n",
      "Predicted Res. Array: [122, 122, 0, 0, 0, 0, 0, 0, 0, 0, 0, 0, 0, 0, 0, 0, 0, 0, 0, 0, 0, 0] \n",
      "Predicted Res.: knock knock                                         \n",
      "\n",
      "\n",
      "\n",
      "Question Array: [54, 91, 143, 0, 0, 0, 0, 0, 0, 0, 0, 0, 0, 0, 0, 0, 0, 0, 0, 0, 0, 0] \n",
      "Question : who is there                                       \n",
      "\n",
      "Expected Res. Array: [47, 0, 0, 0, 0, 0, 0, 0, 0, 0, 0, 0, 0, 0, 0, 0, 0, 0, 0, 0, 0, 0] \n",
      "Expected Res.: boo                                           \n",
      "\n",
      "Predicted Res. Array: [47, 0, 0, 0, 0, 0, 0, 0, 0, 0, 0, 0, 0, 0, 0, 0, 0, 0, 0, 0, 0, 0] \n",
      "Predicted Res.: boo                                           \n",
      "\n",
      "\n",
      "\n"
     ]
    }
   ],
   "source": [
    "for n in range(12, 20):\n",
    "    X,y = transform_xy(padded_q_docs[n], padded_a_docs[n], n_features)\n",
    "    yhat = model.predict(X, verbose=0)\n",
    "    print('Question Array:', one_hot_decode(X[0]), '\\nQuestion :', array_to_string(one_hot_decode(X[0])), '\\n')\n",
    "    print('Expected Res. Array:', one_hot_decode(y[0]), '\\nExpected Res.:', array_to_string(one_hot_decode(y[0])), '\\n')\n",
    "    print('Predicted Res. Array:', one_hot_decode(yhat[0]), '\\nPredicted Res.:', array_to_string(one_hot_decode(yhat[0])), '\\n')\n",
    "    print('\\n')"
   ]
  },
  {
   "cell_type": "code",
   "execution_count": 21,
   "metadata": {},
   "outputs": [],
   "source": [
    "def sent_to_array(sent, t_df):\n",
    "    a = []\n",
    "    b = []\n",
    "    a = return_unique_words_single(sent)\n",
    "    for w in a:\n",
    "        try:\n",
    "            b.append(t_df.loc[t_df.word == w, 'idx'].iloc[0])\n",
    "        except:\n",
    "            b.append(0)\n",
    "    return a, b"
   ]
  },
  {
   "cell_type": "code",
   "execution_count": 22,
   "metadata": {},
   "outputs": [],
   "source": [
    "def transform_x(sequence_in, n_features):\n",
    "    # one hot encode\n",
    "    X = one_hot_encode(sequence_in, n_features)\n",
    "    \n",
    "    # reshape as 3D\n",
    "    X = X.reshape((1, X.shape[0], X.shape[1]))\n",
    "    return X"
   ]
  },
  {
   "cell_type": "code",
   "execution_count": 23,
   "metadata": {},
   "outputs": [],
   "source": [
    "def get_response(sent, t_df):\n",
    "    w, q = sent_to_array(sent, t_df)\n",
    "    q_pad = pad_sequences([q], maxlen=max_length, padding='post')\n",
    "    X2 = transform_x(q_pad[0], n_features)\n",
    "    yhat2 = model.predict(X2, verbose=0)\n",
    "    return array_to_string(one_hot_decode(yhat2[0]))"
   ]
  },
  {
   "cell_type": "code",
   "execution_count": 24,
   "metadata": {},
   "outputs": [],
   "source": [
    "sent = \"hello\"\n",
    "sent1 = \"how goes it?\"\n",
    "sent2 = \"What do you do all day?\"\n",
    "sent3 = \"can you tell me your name?\"\n",
    "sent4 = \"you're a mean robot\"\n",
    "sent5 = \"bye\""
   ]
  },
  {
   "cell_type": "code",
   "execution_count": 25,
   "metadata": {},
   "outputs": [
    {
     "name": "stdout",
     "output_type": "stream",
     "text": [
      "User:  hello \n",
      "Robot:  hi                                          \n",
      "User:  how goes it? \n",
      "Robot:  great                                          \n",
      "User:  What do you do all day? \n",
      "Robot:  professional chatbox interesting                                      \n",
      "User:  can you tell me your name? \n",
      "Robot:  i cannot tell you because you are a stranger                          \n",
      "User:  you're a mean robot \n",
      "Robot:  well thats rude                                      \n",
      "User:  bye \n",
      "Robot:  goodbye                                          \n"
     ]
    }
   ],
   "source": [
    "print('User: ', sent, '\\nRobot: ', get_response(sent, t_df))\n",
    "print('User: ', sent1, '\\nRobot: ', get_response(sent1, t_df))\n",
    "print('User: ', sent2, '\\nRobot: ', get_response(sent2, t_df))\n",
    "print('User: ', sent3, '\\nRobot: ', get_response(sent3, t_df))\n",
    "print('User: ', sent4, '\\nRobot: ', get_response(sent4, t_df))\n",
    "print('User: ', sent5, '\\nRobot: ', get_response(sent5, t_df))"
   ]
  }
 ],
 "metadata": {
  "kernelspec": {
   "display_name": "Python 3",
   "language": "python",
   "name": "python3"
  },
  "language_info": {
   "codemirror_mode": {
    "name": "ipython",
    "version": 3
   },
   "file_extension": ".py",
   "mimetype": "text/x-python",
   "name": "python",
   "nbconvert_exporter": "python",
   "pygments_lexer": "ipython3",
   "version": "3.6.4"
  }
 },
 "nbformat": 4,
 "nbformat_minor": 2
}
