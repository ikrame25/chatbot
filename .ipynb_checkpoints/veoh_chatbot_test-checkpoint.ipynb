{
 "cells": [
  {
   "cell_type": "markdown",
   "metadata": {},
   "source": [
    "[![chatbot](img/veoh.png)](img/veoh.png)"
   ]
  },
  {
   "cell_type": "code",
   "execution_count": 1,
   "metadata": {},
   "outputs": [
    {
     "name": "stderr",
     "output_type": "stream",
     "text": [
      "/Library/Frameworks/Python.framework/Versions/3.6/lib/python3.6/site-packages/h5py/__init__.py:36: FutureWarning: Conversion of the second argument of issubdtype from `float` to `np.floating` is deprecated. In future, it will be treated as `np.float64 == np.dtype(float).type`.\n",
      "  from ._conv import register_converters as _register_converters\n",
      "Using TensorFlow backend.\n"
     ]
    }
   ],
   "source": [
    "# import all dependencies\n",
    "from numpy import array\n",
    "from numpy import argmax\n",
    "from numpy import array_equal\n",
    "from keras.models import Sequential\n",
    "from keras.layers import LSTM\n",
    "from keras.preprocessing.text import one_hot\n",
    "from keras.preprocessing.sequence import pad_sequences\n",
    "from keras.utils import to_categorical\n",
    "from keras.models import Model\n",
    "from attention_decoder import AttentionDecoder\n",
    "from nltk.stem import PorterStemmer\n",
    "from tqdm import tqdm\n",
    "from helper import *\n",
    "import string\n",
    "import pandas as pd"
   ]
  },
  {
   "cell_type": "code",
   "execution_count": 2,
   "metadata": {},
   "outputs": [
    {
     "data": {
      "text/html": [
       "<div>\n",
       "<style scoped>\n",
       "    .dataframe tbody tr th:only-of-type {\n",
       "        vertical-align: middle;\n",
       "    }\n",
       "\n",
       "    .dataframe tbody tr th {\n",
       "        vertical-align: top;\n",
       "    }\n",
       "\n",
       "    .dataframe thead th {\n",
       "        text-align: right;\n",
       "    }\n",
       "</style>\n",
       "<table border=\"1\" class=\"dataframe\">\n",
       "  <thead>\n",
       "    <tr style=\"text-align: right;\">\n",
       "      <th></th>\n",
       "      <th>question</th>\n",
       "      <th>answer</th>\n",
       "    </tr>\n",
       "  </thead>\n",
       "  <tbody>\n",
       "    <tr>\n",
       "      <th>0</th>\n",
       "      <td>How do I retrieve a lost username or password?</td>\n",
       "      <td>On the homepage, under forgot username enter t...</td>\n",
       "    </tr>\n",
       "    <tr>\n",
       "      <th>1</th>\n",
       "      <td>Why didn't I receive my confirmation email?</td>\n",
       "      <td>If you did not receive a Veoh sign-up confirma...</td>\n",
       "    </tr>\n",
       "    <tr>\n",
       "      <th>2</th>\n",
       "      <td>How do I download videos?</td>\n",
       "      <td>While watching a video on veoh.com, under the ...</td>\n",
       "    </tr>\n",
       "    <tr>\n",
       "      <th>3</th>\n",
       "      <td>Where do I download videos?</td>\n",
       "      <td>While watching a video on veoh.com, under the ...</td>\n",
       "    </tr>\n",
       "    <tr>\n",
       "      <th>4</th>\n",
       "      <td>I can hear the audio playing, but there is no ...</td>\n",
       "      <td>You may have outdated codecs or may need to in...</td>\n",
       "    </tr>\n",
       "    <tr>\n",
       "      <th>5</th>\n",
       "      <td>Why is the video not working?</td>\n",
       "      <td>You may have outdated codecs or may need to in...</td>\n",
       "    </tr>\n",
       "    <tr>\n",
       "      <th>6</th>\n",
       "      <td>I have Flash installed but Veoh tells me I nee...</td>\n",
       "      <td>Remove and re-install the Adobe Flash player a...</td>\n",
       "    </tr>\n",
       "    <tr>\n",
       "      <th>7</th>\n",
       "      <td>I'm being told I need codecs installed. What's...</td>\n",
       "      <td>You may have outdated codecs or may need to in...</td>\n",
       "    </tr>\n",
       "    <tr>\n",
       "      <th>8</th>\n",
       "      <td>Do you support the iPhone?</td>\n",
       "      <td>Simply navigate to veoh's website and we willl...</td>\n",
       "    </tr>\n",
       "    <tr>\n",
       "      <th>9</th>\n",
       "      <td>Why don't you have the video I'm looking for?</td>\n",
       "      <td>Because we rely on users and publishers to upl...</td>\n",
       "    </tr>\n",
       "  </tbody>\n",
       "</table>\n",
       "</div>"
      ],
      "text/plain": [
       "                                            question  \\\n",
       "0     How do I retrieve a lost username or password?   \n",
       "1        Why didn't I receive my confirmation email?   \n",
       "2                          How do I download videos?   \n",
       "3                        Where do I download videos?   \n",
       "4  I can hear the audio playing, but there is no ...   \n",
       "5                      Why is the video not working?   \n",
       "6  I have Flash installed but Veoh tells me I nee...   \n",
       "7  I'm being told I need codecs installed. What's...   \n",
       "8                         Do you support the iPhone?   \n",
       "9      Why don't you have the video I'm looking for?   \n",
       "\n",
       "                                              answer  \n",
       "0  On the homepage, under forgot username enter t...  \n",
       "1  If you did not receive a Veoh sign-up confirma...  \n",
       "2  While watching a video on veoh.com, under the ...  \n",
       "3  While watching a video on veoh.com, under the ...  \n",
       "4  You may have outdated codecs or may need to in...  \n",
       "5  You may have outdated codecs or may need to in...  \n",
       "6  Remove and re-install the Adobe Flash player a...  \n",
       "7  You may have outdated codecs or may need to in...  \n",
       "8  Simply navigate to veoh's website and we willl...  \n",
       "9  Because we rely on users and publishers to upl...  "
      ]
     },
     "execution_count": 2,
     "metadata": {},
     "output_type": "execute_result"
    }
   ],
   "source": [
    "# load csv into pandas dataframe\n",
    "df = pd.read_csv('veoh_qna.csv')\n",
    "df.head(10)"
   ]
  },
  {
   "cell_type": "code",
   "execution_count": 3,
   "metadata": {},
   "outputs": [
    {
     "data": {
      "text/html": [
       "<div>\n",
       "<style scoped>\n",
       "    .dataframe tbody tr th:only-of-type {\n",
       "        vertical-align: middle;\n",
       "    }\n",
       "\n",
       "    .dataframe tbody tr th {\n",
       "        vertical-align: top;\n",
       "    }\n",
       "\n",
       "    .dataframe thead th {\n",
       "        text-align: right;\n",
       "    }\n",
       "</style>\n",
       "<table border=\"1\" class=\"dataframe\">\n",
       "  <thead>\n",
       "    <tr style=\"text-align: right;\">\n",
       "      <th></th>\n",
       "      <th>word</th>\n",
       "      <th>idx</th>\n",
       "    </tr>\n",
       "  </thead>\n",
       "  <tbody>\n",
       "    <tr>\n",
       "      <th>0</th>\n",
       "      <td></td>\n",
       "      <td>0</td>\n",
       "    </tr>\n",
       "    <tr>\n",
       "      <th>1</th>\n",
       "      <td></td>\n",
       "      <td>1</td>\n",
       "    </tr>\n",
       "    <tr>\n",
       "      <th>2</th>\n",
       "      <td>browse</td>\n",
       "      <td>2</td>\n",
       "    </tr>\n",
       "    <tr>\n",
       "      <th>3</th>\n",
       "      <td>standard</td>\n",
       "      <td>3</td>\n",
       "    </tr>\n",
       "    <tr>\n",
       "      <th>4</th>\n",
       "      <td>filter</td>\n",
       "      <td>4</td>\n",
       "    </tr>\n",
       "  </tbody>\n",
       "</table>\n",
       "</div>"
      ],
      "text/plain": [
       "       word  idx\n",
       "0              0\n",
       "1              1\n",
       "2    browse    2\n",
       "3  standard    3\n",
       "4    filter    4"
      ]
     },
     "execution_count": 3,
     "metadata": {},
     "output_type": "execute_result"
    }
   ],
   "source": [
    "# create an index of words, please note that index 0 is set to an empty space\n",
    "t_df = df_to_df(df.question, df.answer)\n",
    "t_df.head()"
   ]
  },
  {
   "cell_type": "code",
   "execution_count": 4,
   "metadata": {},
   "outputs": [
    {
     "name": "stdout",
     "output_type": "stream",
     "text": [
      "Question word list:\n",
      " [['how', 'do', 'i', 'retrieve', 'a', 'lost', 'username', 'or', 'password']] \n",
      "\n",
      " Question array list:\n",
      " [[72, 152, 272, 343, 306, 170, 126, 367, 178]] \n",
      "\n",
      "\n",
      "Answer word list:\n",
      " [['on', 'the', 'homepage', 'under', 'forgot', 'username', 'enter', 'the', 'email', 'address', 'you', 'originally', 'signed', 'up', 'with', 'you', 'will', 'receive', 'an', 'email', 'with', 'your', 'username']] \n",
      "\n",
      " Answer array list:\n",
      " [[65, 259, 116, 28, 260, 126, 239, 259, 57, 103, 345, 218, 154, 130, 316, 345, 86, 97, 25, 57, 316, 210, 126]] \n",
      "\n"
     ]
    }
   ],
   "source": [
    "# transform questions & answers to a word array and a sequence array\n",
    "q_list, q_as_array = word_to_array(df.question, t_df)\n",
    "a_list, a_as_array = word_to_array(df.answer, t_df)\n",
    "\n",
    "# print the first array\n",
    "print('Question word list:\\n', q_list[:1], '\\n'*2,'Question array list:\\n', q_as_array[:1], '\\n'*2)\n",
    "print('Answer word list:\\n', a_list[:1],'\\n'*2, 'Answer array list:\\n', a_as_array[:1],'\\n')"
   ]
  },
  {
   "cell_type": "code",
   "execution_count": 5,
   "metadata": {},
   "outputs": [
    {
     "name": "stdout",
     "output_type": "stream",
     "text": [
      "Vocab Size:  371\n",
      "Number of features:  371 \n",
      "\n",
      "Max Length of Question:  13\n",
      "Max Length of Answer:  26\n",
      "Max Padded Length:  29\n"
     ]
    }
   ],
   "source": [
    "# use the length of the index of the word matrix as the vocabulary size\n",
    "vocab_size = len(t_df)\n",
    "print('Vocab Size: ', vocab_size)\n",
    "\n",
    "# set max features(vocab size) equal to vocab size\n",
    "n_features = vocab_size\n",
    "print('Number of features: ', n_features, '\\n')\n",
    "\n",
    "# find the max length of question & answer\n",
    "max_q_l = len(max(q_as_array,key=len))\n",
    "max_a_l = len(max(a_as_array,key=len))\n",
    "max_l = max(max_q_l, max_a_l)\n",
    "print('Max Length of Question: ', max_q_l)\n",
    "print('Max Length of Answer: ', max_a_l)\n",
    "\n",
    "# set max length equal to max length + 3 to ensure ample padding\n",
    "max_length = max_l + 3\n",
    "print('Max Padded Length: ', max_length)"
   ]
  },
  {
   "cell_type": "code",
   "execution_count": 6,
   "metadata": {},
   "outputs": [
    {
     "name": "stdout",
     "output_type": "stream",
     "text": [
      "Padded questions array:\n",
      " [[ 72 152 272 343 306 170 126 367 178   0   0   0   0   0   0   0   0   0\n",
      "    0   0   0   0   0   0   0   0   0   0   0]]\n",
      "\n",
      "Padded answers array:\n",
      " [[ 65 259 116  28 260 126 239 259  57 103 345 218 154 130 316 345  86  97\n",
      "   25  57 316 210 126   0   0   0   0   0   0]]\n"
     ]
    }
   ],
   "source": [
    "# using the keras function pad_sequences, we pad with the default value of 0 up to the max length of any q&a\n",
    "\n",
    "# pad questions to max length\n",
    "padded_q_docs = pad_sequences(q_as_array, maxlen=max_length, padding='post')\n",
    "print('Padded questions array:\\n', padded_q_docs[:1])\n",
    "\n",
    "# pad answers to max length\n",
    "padded_a_docs = pad_sequences(a_as_array, maxlen=max_length, padding='post')\n",
    "print('\\nPadded answers array:\\n', padded_a_docs[:1])"
   ]
  },
  {
   "cell_type": "code",
   "execution_count": 7,
   "metadata": {},
   "outputs": [],
   "source": [
    "# define model\n",
    "model = Sequential()\n",
    "model.add(LSTM(150, input_shape=(max_length, n_features), return_sequences=True))\n",
    "model.add(AttentionDecoder(150, n_features))\n",
    "model.compile(loss='categorical_crossentropy', optimizer='adam', metrics=['acc'])"
   ]
  },
  {
   "cell_type": "code",
   "execution_count": 8,
   "metadata": {
    "scrolled": true
   },
   "outputs": [
    {
     "name": "stderr",
     "output_type": "stream",
     "text": [
      "100%|██████████| 148/148 [09:33<00:00,  3.87s/it]\n"
     ]
    }
   ],
   "source": [
    "# train the model for 40% of the length for number of features\n",
    "for a in tqdm(range(0, n_features//10*4)):\n",
    "    for n in range(0, len(padded_q_docs)):\n",
    "        # transform xy\n",
    "        X,y = transform_xy(padded_q_docs[n], padded_a_docs[n], n_features)\n",
    "        \n",
    "        # fit model for one epoch on this sequence\n",
    "        model.fit(X, y, epochs=1, verbose=0)"
   ]
  },
  {
   "cell_type": "code",
   "execution_count": 9,
   "metadata": {},
   "outputs": [
    {
     "name": "stdout",
     "output_type": "stream",
     "text": [
      "Set #10\n",
      "Question Array: [267, 205, 194, 53, 300, 338, 35, 0, 0, 0, 0, 0, 0, 0, 0, 0, 0, 0, 0, 0, 0, 0, 0, 0, 0, 0, 0, 0, 0] \n",
      "Question : why is my download speed so slow                                             \n",
      "\n",
      "Expected Response Array: [325, 205, 306, 255, 350, 173, 326, 147, 366, 35, 5, 0, 0, 0, 0, 0, 0, 0, 0, 0, 0, 0, 0, 0, 0, 0, 0, 0, 0] \n",
      "Expected Response: there is a number of factors that attribute to slow downloading                                     \n",
      "\n",
      "Predicted Response Array: [325, 205, 306, 255, 350, 173, 326, 147, 366, 35, 5, 0, 0, 0, 0, 0, 0, 0, 0, 0, 0, 0, 0, 0, 0, 0, 0, 0, 0] \n",
      "Predicted Response: there is a number of factors that attribute to slow downloading                                     \n",
      "\n",
      "Set #11\n",
      "Question Array: [267, 152, 278, 289, 195, 367, 200, 228, 0, 0, 0, 0, 0, 0, 0, 0, 0, 0, 0, 0, 0, 0, 0, 0, 0, 0, 0, 0, 0] \n",
      "Question : why do some videos pause or seem jittery                                           \n",
      "\n",
      "Expected Response Array: [189, 259, 106, 190, 305, 208, 366, 313, 205, 228, 367, 285, 210, 186, 73, 258, 56, 297, 244, 345, 235, 227, 366, 152, 0, 0, 0, 0, 0] \n",
      "Expected Response: if the video youre watching starts to skip is jittery or pauses your bandwidth may be inadequate for what you are trying to do           \n",
      "\n",
      "Predicted Response Array: [189, 259, 106, 190, 305, 208, 366, 313, 205, 228, 367, 285, 210, 186, 73, 258, 56, 297, 244, 345, 235, 227, 366, 152, 0, 0, 0, 0, 0] \n",
      "Predicted Response: if the video youre watching starts to skip is jittery or pauses your bandwidth may be inadequate for what you are trying to do           \n",
      "\n",
      "Total Training Accuracy: 100.00%\n"
     ]
    }
   ],
   "source": [
    "# print 3 sets of questions, expected response and predicted response\n",
    "for n in range(10, 12):\n",
    "    X,y = transform_xy(padded_q_docs[n], padded_a_docs[n], n_features)\n",
    "    yhat = model.predict(X, verbose=0)\n",
    "    print('Set #{}'.format(n))\n",
    "    print('Question Array:', one_hot_decode(X[0]), '\\nQuestion :', array_to_string(one_hot_decode(X[0]), t_df), '\\n')\n",
    "    print('Expected Response Array:', one_hot_decode(y[0]), '\\nExpected Response:', array_to_string(one_hot_decode(y[0]), t_df), '\\n')\n",
    "    print('Predicted Response Array:', one_hot_decode(yhat[0]), '\\nPredicted Response:', array_to_string(one_hot_decode(yhat[0]), t_df), '\\n')\n",
    "\n",
    "# print accuracy of model\n",
    "total, correct = len(padded_q_docs), 0\n",
    "for n in range(total):\n",
    "    X,y = transform_xy(padded_q_docs[n], padded_a_docs[n], n_features)\n",
    "    yhat = model.predict(X, verbose=0)\n",
    "    if array_equal(one_hot_decode(y[0]), one_hot_decode(yhat[0])):\n",
    "        correct += 1\n",
    "print('Total Training Accuracy: %.2f%%' % (float(correct)/float(total)*100.0))"
   ]
  },
  {
   "cell_type": "code",
   "execution_count": 10,
   "metadata": {},
   "outputs": [
    {
     "name": "stdout",
     "output_type": "stream",
     "text": [
      "\n",
      "User:  hi \n",
      "Veoh Bot:  hello                                                        \n",
      "\n",
      "User:  how are you? \n",
      "Veoh Bot:  im good how can i help                                              \n",
      "\n",
      "User:  how can i download some videos? \n",
      "Veoh Bot:  while watching a video on veohcom under the video player click on the download video button                          \n",
      "\n",
      "User:  where do i upload a video? \n",
      "Veoh Bot:  to upload videos through a simply click on the add a video video in the upper right a the top navigation bar              \n",
      "\n",
      "User:  what file formats do you recommend for uploads? \n",
      "Veoh Bot:  veoh currently supports uploads in wmv quicktime and divx formats we support most standard video and audio encoding                      \n",
      "\n",
      "User:  is there a size limit for uploading? \n",
      "Veoh Bot:  no you can upload videos of any size however if the video is larger than 1gb we recommend using the veoh uploader              \n",
      "\n",
      "User:  how can i get better search results? \n",
      "Veoh Bot:  you can find videos by typing into the search box on any page and clicking the enter key or the search button              \n",
      "\n",
      "User:  what is veoh compass? \n",
      "Veoh Bot:  the veoh video compass is a browser addon that surfaces video and search recommendations                              \n",
      "\n",
      "User:  where can i search for videos or groups? \n",
      "Veoh Bot:  you can search for any tv shows movies music indies groups channels genre or category of video by typing in the search box           \n",
      "\n",
      "User:  thank you \n",
      "Veoh Bot:  youre welcome                                                      \n",
      "\n",
      "User:  bye \n",
      "Veoh Bot:  goodbye                                                        \n"
     ]
    }
   ],
   "source": [
    "# create sentences that are not in the list of questions and answers list\n",
    "sent0 = \"hi\"\n",
    "sent1 = \"how are you?\"\n",
    "sent2 = \"how can i download some videos?\"\n",
    "sent3 = \"where do i upload a video?\"\n",
    "sent4 = \"what file formats do you recommend for uploads?\"\n",
    "sent5 = \"is there a size limit for uploading?\"\n",
    "sent6 = \"how can i get better search results?\"\n",
    "sent7 = \"what is veoh compass?\"\n",
    "sent8 = \"where can i search for videos or groups?\"\n",
    "sent9 = \"thank you\"\n",
    "sent10 = \"bye\"\n",
    "\n",
    "for n in range(0, 11):\n",
    "    print('\\nUser: ', eval('sent'+str(n)),\n",
    "          '\\nVeoh Bot: ', get_response(eval('sent'+str(n)), t_df, max_length, n_features, model))"
   ]
  }
 ],
 "metadata": {
  "kernelspec": {
   "display_name": "Python 3",
   "language": "python",
   "name": "python3"
  },
  "language_info": {
   "codemirror_mode": {
    "name": "ipython",
    "version": 3
   },
   "file_extension": ".py",
   "mimetype": "text/x-python",
   "name": "python",
   "nbconvert_exporter": "python",
   "pygments_lexer": "ipython3",
   "version": "3.6.4"
  }
 },
 "nbformat": 4,
 "nbformat_minor": 2
}
